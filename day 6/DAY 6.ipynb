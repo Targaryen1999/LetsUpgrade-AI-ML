{
 "cells": [
  {
   "cell_type": "markdown",
   "metadata": {
    "collapsed": false
   },
   "source": [
    "#Assignment Day 6\n"
   ]
  },
  {
   "cell_type": "code",
   "execution_count": 2,
   "metadata": {
    "cocalc": {
     "outputs": {
      "0": {
       "name": "input",
       "opts": {
        "password": false,
        "prompt": ""
       },
       "output_type": "stream",
       "value": "popeye@babablacksheep.com"
      }
     }
    },
    "collapsed": false
   },
   "outputs": [
    {
     "name": "stdout",
     "output_type": "stream",
     "text": " popeye@babablacksheep.com"
    },
    {
     "name": "stdout",
     "output_type": "stream",
     "text": [
      "babablacksheep"
     ]
    }
   ],
   "source": [
    "#Q1\n",
    "\n",
    "ip=input()\n",
    "x=ip.index(\"@\")\n",
    "print(ip[x+1:len(ip)-4],end='')"
   ]
  },
  {
   "cell_type": "code",
   "execution_count": 4,
   "metadata": {
    "cocalc": {
     "outputs": {
      "0": {
       "name": "input",
       "opts": {
        "password": false,
        "prompt": "Input comma separated sequence of words"
       },
       "output_type": "stream",
       "value": "uncle,aunty,kaku,babu,shona"
      }
     }
    },
    "collapsed": false
   },
   "outputs": [
    {
     "name": "stdout",
     "output_type": "stream",
     "text": "Input comma separated sequence of words uncle,aunty,kaku,babu,shona"
    },
    {
     "name": "stdout",
     "output_type": "stream",
     "text": [
      "aunty,babu,kaku,shona,uncle\n"
     ]
    }
   ],
   "source": [
    "#Q2\n",
    "\n",
    "items = input(\"Input comma separated sequence of words\")\n",
    "words = [word for word in items.split(\",\")]\n",
    "print(\",\".join(sorted(list(set(words)))))\n",
    "\n"
   ]
  },
  {
   "cell_type": "code",
   "execution_count": 11,
   "metadata": {
    "collapsed": false
   },
   "outputs": [
    {
     "name": "stdout",
     "output_type": "stream",
     "text": [
      "7\n"
     ]
    }
   ],
   "source": [
    "# Q4 Q3 different notebook\n",
    "\n",
    "def find_missing_num(n, v):\n",
    "     v = sorted(v)\n",
    "     for number in range(1, n+1):\n",
    "         if number == v[number - 1]:\n",
    "             continue\n",
    "         else:\n",
    "             return number\n",
    "\n",
    "#test\n",
    "print(find_missing_num(10, [4,2,5,3,9,6,8,1]))"
   ]
  },
  {
   "cell_type": "code",
   "execution_count": 12,
   "metadata": {
    "cocalc": {
     "outputs": {
      "0": {
       "name": "input",
       "opts": {
        "password": false,
        "prompt": "Enter the number of elements in list:"
       },
       "output_type": "stream",
       "value": "6"
      },
      "1": {
       "name": "input",
       "opts": {
        "password": false,
        "prompt": "Enter element1:"
       },
       "output_type": "stream",
       "value": "11"
      },
      "2": {
       "name": "input",
       "opts": {
        "password": false,
        "prompt": "Enter element2:"
       },
       "output_type": "stream",
       "value": "55"
      },
      "3": {
       "name": "input",
       "opts": {
        "password": false,
        "prompt": "Enter element3:"
       },
       "output_type": "stream",
       "value": "12"
      },
      "4": {
       "name": "input",
       "opts": {
        "password": false,
        "prompt": "Enter element4:"
       },
       "output_type": "stream",
       "value": "11"
      },
      "5": {
       "name": "input",
       "opts": {
        "password": false,
        "prompt": "Enter element5:"
       },
       "output_type": "stream",
       "value": "23"
      },
      "6": {
       "name": "input",
       "opts": {
        "password": false,
        "prompt": "Enter element6:"
       },
       "output_type": "stream",
       "value": "55"
      }
     }
    },
    "collapsed": false
   },
   "outputs": [
    {
     "name": "stdout",
     "output_type": "stream",
     "text": "Enter the number of elements in list: 6"
    },
    {
     "name": "stdout",
     "output_type": "stream",
     "text": "Enter element1: 11"
    },
    {
     "name": "stdout",
     "output_type": "stream",
     "text": "Enter element2: 55"
    },
    {
     "name": "stdout",
     "output_type": "stream",
     "text": "Enter element3: 12"
    },
    {
     "name": "stdout",
     "output_type": "stream",
     "text": "Enter element4: 11"
    },
    {
     "name": "stdout",
     "output_type": "stream",
     "text": "Enter element5: 23"
    },
    {
     "name": "stdout",
     "output_type": "stream",
     "text": "Enter element6: 55"
    },
    {
     "name": "stdout",
     "output_type": "stream",
     "text": [
      "Non-duplicate items:\n",
      "[11, 55, 12, 23]\n"
     ]
    }
   ],
   "source": [
    "# Q5\n",
    "\n",
    "a=[]\n",
    "n= int(input(\"Enter the number of elements in list:\"))\n",
    "for x in range(0,n):\n",
    "    element=int(input(\"Enter element\" + str(x+1) + \":\"))\n",
    "    a.append(element)\n",
    "b = set()\n",
    "unique = []\n",
    "for x in a:\n",
    "    if x not in b:\n",
    "        unique.append(x)\n",
    "        b.add(x)\n",
    "print(\"Non-duplicate items:\")\n",
    "print(unique)\n"
   ]
  },
  {
   "cell_type": "code",
   "execution_count": 0,
   "metadata": {
    "collapsed": false
   },
   "outputs": [
   ],
   "source": [
   ]
  },
  {
   "cell_type": "code",
   "execution_count": 0,
   "metadata": {
    "collapsed": false
   },
   "outputs": [
   ],
   "source": [
   ]
  },
  {
   "cell_type": "code",
   "execution_count": 0,
   "metadata": {
    "collapsed": false
   },
   "outputs": [
   ],
   "source": [
   ]
  }
 ],
 "metadata": {
  "kernelspec": {
   "display_name": "Python 3 (system-wide)",
   "language": "python",
   "metadata": {
    "cocalc": {
     "description": "Python 3 programming language",
     "priority": 100,
     "url": "https://www.python.org/"
    }
   },
   "name": "python3"
  },
  "language_info": {
   "codemirror_mode": {
    "name": "ipython",
    "version": 3
   },
   "file_extension": ".py",
   "mimetype": "text/x-python",
   "name": "python",
   "nbconvert_exporter": "python",
   "pygments_lexer": "ipython3",
   "version": "3.6.9"
  }
 },
 "nbformat": 4,
 "nbformat_minor": 4
}