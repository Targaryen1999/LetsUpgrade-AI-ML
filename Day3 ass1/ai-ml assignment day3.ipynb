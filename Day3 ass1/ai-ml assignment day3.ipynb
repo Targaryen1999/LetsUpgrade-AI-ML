{
 "cells": [
  {
   "cell_type": "markdown",
   "metadata": {},
   "source": [
    "# Assignment Day 3"
   ]
  },
  {
   "cell_type": "markdown",
   "metadata": {},
   "source": [
    "Q1 :-"
   ]
  },
  {
   "cell_type": "code",
   "execution_count": 2,
   "metadata": {},
   "outputs": [
    {
     "name": "stdout",
     "output_type": "stream",
     "text": [
      "subtraction is = (-2-55j)\n"
     ]
    }
   ],
   "source": [
    "a=2+34j\n",
    "b=4+89j\n",
    "c=a-b\n",
    "print(\"subtraction is =\",c)"
   ]
  },
  {
   "cell_type": "markdown",
   "metadata": {},
   "source": [
    "Q2 :-"
   ]
  },
  {
   "cell_type": "code",
   "execution_count": 3,
   "metadata": {},
   "outputs": [
    {
     "name": "stdout",
     "output_type": "stream",
     "text": [
      "fourth root of 69 = 22667121\n"
     ]
    }
   ],
   "source": [
    "a= 69**4\n",
    "print(\"fourth root of 69 =\",a)"
   ]
  },
  {
   "cell_type": "markdown",
   "metadata": {},
   "source": [
    "Q3 :-"
   ]
  },
  {
   "cell_type": "code",
   "execution_count": 8,
   "metadata": {},
   "outputs": [],
   "source": [
    "#swap with temp\n",
    "a=69\n",
    "b=98\n",
    "t=a\n",
    "a=b\n",
    "b=t\n",
    "#a=b"
   ]
  },
  {
   "cell_type": "code",
   "execution_count": 10,
   "metadata": {},
   "outputs": [
    {
     "name": "stdout",
     "output_type": "stream",
     "text": [
      "98\n",
      "69\n"
     ]
    }
   ],
   "source": [
    "print(a)\n",
    "print(b)"
   ]
  },
  {
   "cell_type": "markdown",
   "metadata": {},
   "source": [
    "Q4 :-"
   ]
  },
  {
   "cell_type": "code",
   "execution_count": 12,
   "metadata": {},
   "outputs": [
    {
     "name": "stdout",
     "output_type": "stream",
     "text": [
      "98\n",
      "69\n"
     ]
    }
   ],
   "source": [
    "#swap without temp\n",
    "a=69\n",
    "b=98\n",
    "a=a+b\n",
    "b=a-b\n",
    "a=a-b\n",
    "print(a)\n",
    "print(b)"
   ]
  },
  {
   "cell_type": "markdown",
   "metadata": {},
   "source": [
    "Q5 :-"
   ]
  },
  {
   "cell_type": "code",
   "execution_count": 14,
   "metadata": {},
   "outputs": [
    {
     "name": "stdout",
     "output_type": "stream",
     "text": [
      "Celsius =  20.555555555555557\n",
      "Kelvin =  293.7055555555555\n"
     ]
    }
   ],
   "source": [
    "#fahrenite to deg cellsius and kelvin\n",
    "\n",
    "a=69\n",
    "b=(a-32)*5/9\n",
    "c=(a-32)*5/9+273.15\n",
    "print(\"Celsius = \",b)\n",
    "print(\"Kelvin = \",c)"
   ]
  },
  {
   "cell_type": "markdown",
   "metadata": {},
   "source": [
    "Q6 :-"
   ]
  },
  {
   "cell_type": "code",
   "execution_count": 18,
   "metadata": {},
   "outputs": [
    {
     "name": "stdout",
     "output_type": "stream",
     "text": [
      "<class 'int'>\n",
      "<class 'float'>\n",
      "<class 'str'>\n",
      "<class 'str'>\n",
      "<class 'list'>\n"
     ]
    }
   ],
   "source": [
    "a=69\n",
    "b=69.696969696969\n",
    "c=\"Targaryen\"\n",
    "d=\"s\"\n",
    "lst=[69.69,69,\"lmoa\"]\n",
    "print(type(a))\n",
    "print(type(b))\n",
    "print(type(c))\n",
    "print(type(d))\n",
    "print(type(lst))"
   ]
  },
  {
   "cell_type": "markdown",
   "metadata": {},
   "source": [
    "Q7 :-"
   ]
  },
  {
   "cell_type": "markdown",
   "metadata": {},
   "source": [
    "ans -  \n",
    "1) Login to github account ,if acc not available create one\n",
    "2) login after creating account\n",
    "3) create a new repository\n",
    "4) upload your assignment in newly created repository\n",
    "5) submit the github link having all the solved assignments "
   ]
  }
 ],
 "metadata": {
  "kernelspec": {
   "display_name": "Python 3",
   "language": "python",
   "name": "python3"
  },
  "language_info": {
   "codemirror_mode": {
    "name": "ipython",
    "version": 3
   },
   "file_extension": ".py",
   "mimetype": "text/x-python",
   "name": "python",
   "nbconvert_exporter": "python",
   "pygments_lexer": "ipython3",
   "version": "3.7.6"
  }
 },
 "nbformat": 4,
 "nbformat_minor": 4
}
