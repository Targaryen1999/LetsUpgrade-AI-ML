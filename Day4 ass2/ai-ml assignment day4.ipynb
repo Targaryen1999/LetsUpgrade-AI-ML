{
 "cells": [
  {
   "cell_type": "markdown",
   "metadata": {},
   "source": [
    "# Q-1"
   ]
  },
  {
   "cell_type": "code",
   "execution_count": 8,
   "metadata": {},
   "outputs": [
    {
     "name": "stdout",
     "output_type": "stream",
     "text": [
      "addition is =  (9+11j)\n",
      "subtraction is =  (-1-1j)\n",
      "multiplication is =  (-10+49j)\n",
      "division is =  (0.8196721311475409+0.01639344262295085j)\n",
      "thank you!!!\n"
     ]
    }
   ],
   "source": [
    "a=4+5j\n",
    "b=5+6j\n",
    "c=a+b\n",
    "d=a-b\n",
    "e=a*b\n",
    "f=a/b\n",
    "#d=a%b\n",
    "print(\"addition is = \",c)\n",
    "print(\"subtraction is = \",d)\n",
    "print(\"multiplication is = \",e)\n",
    "print(\"division is = \",f)\n",
    "print(\"thank you!!!\")"
   ]
  },
  {
   "cell_type": "markdown",
   "metadata": {},
   "source": [
    "# Q-2"
   ]
  },
  {
   "cell_type": "markdown",
   "metadata": {},
   "source": [
    "Ans= range() is the built-in function that generates the integer numbers between the given start integer to the stop integer"
   ]
  },
  {
   "cell_type": "code",
   "execution_count": 9,
   "metadata": {},
   "outputs": [],
   "source": [
    "#example of range() function"
   ]
  },
  {
   "cell_type": "code",
   "execution_count": 11,
   "metadata": {},
   "outputs": [
    {
     "name": "stdout",
     "output_type": "stream",
     "text": [
      "Print numbers from range 0 to 10\n",
      "0\n",
      "1\n",
      "2\n",
      "3\n",
      "4\n",
      "5\n",
      "6\n",
      "7\n",
      "8\n",
      "9\n"
     ]
    }
   ],
   "source": [
    "print(\"Print numbers from range 0 to 10\")\n",
    "for i in range(10):\n",
    "    print(i)"
   ]
  },
  {
   "cell_type": "markdown",
   "metadata": {},
   "source": [
    "# Q-3"
   ]
  },
  {
   "cell_type": "code",
   "execution_count": 15,
   "metadata": {},
   "outputs": [
    {
     "name": "stdout",
     "output_type": "stream",
     "text": [
      "(square-2) of Numbers divisible by 2 are =\n",
      "574\n",
      "2114\n",
      "2\n",
      "7742\n",
      "9214\n",
      "3134\n"
     ]
    }
   ],
   "source": [
    "print('(square-2) of Numbers divisible by 2 are =')\n",
    "lst=[24,69,46,2,51,89,88,96,77,56]\n",
    "for i in lst:\n",
    "    if i%2==0:\n",
    "        a=(i**2)-2\n",
    "        \n",
    "        #print(\"Numbers divisible by 2 are = \")\n",
    "        print(a)\n",
    "    "
   ]
  },
  {
   "cell_type": "markdown",
   "metadata": {},
   "source": [
    "# Q-4"
   ]
  },
  {
   "cell_type": "code",
   "execution_count": 17,
   "metadata": {},
   "outputs": [
    {
     "name": "stdout",
     "output_type": "stream",
     "text": [
      "69\n",
      "46\n",
      "51\n",
      "88\n",
      "96\n",
      "77\n"
     ]
    }
   ],
   "source": [
    "lst=[4,69,46,2,51,8,88,96,77,6]\n",
    "for i in lst:\n",
    "    if (i/2)>7:\n",
    "        print(i)"
   ]
  },
  {
   "cell_type": "code",
   "execution_count": null,
   "metadata": {},
   "outputs": [],
   "source": []
  }
 ],
 "metadata": {
  "kernelspec": {
   "display_name": "Python 3",
   "language": "python",
   "name": "python3"
  },
  "language_info": {
   "codemirror_mode": {
    "name": "ipython",
    "version": 3
   },
   "file_extension": ".py",
   "mimetype": "text/x-python",
   "name": "python",
   "nbconvert_exporter": "python",
   "pygments_lexer": "ipython3",
   "version": "3.7.6"
  }
 },
 "nbformat": 4,
 "nbformat_minor": 4
}
